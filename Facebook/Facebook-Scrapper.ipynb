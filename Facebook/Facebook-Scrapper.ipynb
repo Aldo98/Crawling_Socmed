{
 "cells": [
  {
   "cell_type": "markdown",
   "metadata": {},
   "source": [
    "# Initiation"
   ]
  },
  {
   "cell_type": "code",
   "execution_count": 2,
   "metadata": {},
   "outputs": [],
   "source": [
    "import selenium\n",
    "from selenium import webdriver\n",
    "from selenium.webdriver.support.ui import WebDriverWait\n",
    "from selenium.webdriver.chrome.options import Options\n",
    "from selenium.webdriver.common.keys import Keys\n",
    "from selenium.webdriver.support import expected_conditions as EC\n",
    "from selenium.webdriver.common.by import By\n",
    "from bs4 import BeautifulSoup \n",
    "import random\n",
    "import time\n",
    "import pandas\n",
    "from tqdm import tqdm\n",
    "from datetime import datetime\n",
    "from util import *\n",
    "from glob import glob"
   ]
  },
  {
   "cell_type": "code",
   "execution_count": 3,
   "metadata": {},
   "outputs": [],
   "source": [
    "option = Options()\n",
    "option.add_argument(\"user-data-dir=selenium\")\n",
    "driver = webdriver.Chrome(options=option, executable_path=r'../chromedriver.exe') \n",
    "driver.get('https://m.facebook.com/')"
   ]
  },
  {
   "cell_type": "markdown",
   "metadata": {},
   "source": [
    "# Search Keyword"
   ]
  },
  {
   "cell_type": "code",
   "execution_count": 4,
   "metadata": {},
   "outputs": [
    {
     "name": "stdout",
     "output_type": "stream",
     "text": [
      "Search covid19 on Facebook...\n"
     ]
    }
   ],
   "source": [
    "keyword = \"covid19\"\n",
    "print('Search {} on Facebook...'.format(keyword))\n",
    "klik = driver.find_element_by_id('search_jewel').click()\n",
    "\n",
    "cari = driver.find_element_by_id('main-search-input')\n",
    "cari.send_keys(keyword)\n",
    "cari.send_keys(Keys.RETURN)"
   ]
  },
  {
   "cell_type": "markdown",
   "metadata": {},
   "source": [
    "# Scroll Down"
   ]
  },
  {
   "cell_type": "code",
   "execution_count": 5,
   "metadata": {},
   "outputs": [],
   "source": [
    "pages = 5\n",
    "last_height = driver.execute_script(\"return document.body.scrollHeight\")\n",
    "for j in range(pages):\n",
    "    # Scroll down to bottom\n",
    "    driver.execute_script(\"window.scrollTo(0, document.body.scrollHeight);\")\n",
    "    # Wait to load page\n",
    "    rand = random.randint(1,5)\n",
    "    time.sleep(rand)\n",
    "\n",
    "    # Calculate new scroll height and compare with last scroll height\n",
    "    new_height = driver.execute_script(\"return document.body.scrollHeight\")\n",
    "    if new_height == last_height:\n",
    "        break\n",
    "    last_height = new_height"
   ]
  },
  {
   "cell_type": "markdown",
   "metadata": {},
   "source": [
    "# Get List Post"
   ]
  },
  {
   "cell_type": "code",
   "execution_count": 6,
   "metadata": {},
   "outputs": [
    {
     "name": "stdout",
     "output_type": "stream",
     "text": [
      "Get 15 Post From Facebook with Keyword : covid19\n"
     ]
    }
   ],
   "source": [
    "while True:\n",
    "    try:\n",
    "        WebDriverWait(driver, 10).until(EC.presence_of_all_elements_located((By.ID, 'BrowseResultsContainer')))\n",
    "        page_source = driver.page_source\n",
    "        soup = BeautifulSoup(driver.page_source, 'lxml')\n",
    "        browse = soup.find(\"div\", {\"class\":\"_2v9s\"}, recursive=True)\n",
    "        Pages = browse.findAll(\"div\", {\"id\":\"BrowseResultsContainer\"}, recursive=True)\n",
    "        get = Pages[0].findAll(\"div\", {\"data-module-role\":\"PUBLIC_POSTS\"})\n",
    "        break\n",
    "    except:\n",
    "        pass\n",
    "\n",
    "print(\"Get {} Post From Facebook with Keyword : {}\".format(str(len(get)), keyword))"
   ]
  },
  {
   "cell_type": "markdown",
   "metadata": {},
   "source": [
    "# Get Info From Post"
   ]
  },
  {
   "cell_type": "code",
   "execution_count": 7,
   "metadata": {},
   "outputs": [
    {
     "name": "stdout",
     "output_type": "stream",
     "text": [
      "Get Detail From 1 Post\n"
     ]
    },
    {
     "name": "stderr",
     "output_type": "stream",
     "text": [
      "Getting Comment Detail From Post: 100%|█████████████████████████████████████████████████| 2/2 [00:00<00:00, 153.84it/s]\n"
     ]
    },
    {
     "name": "stdout",
     "output_type": "stream",
     "text": [
      "Saved Into Excel File\n",
      "Get Detail From 2 Post\n"
     ]
    },
    {
     "name": "stderr",
     "output_type": "stream",
     "text": [
      "Getting Comment Detail From Post: 100%|███████████████████████████████████████████████| 50/50 [00:00<00:00, 279.29it/s]\n",
      "Getting Detail from Replyed Comment 0: 100%|████████████████████████████████████████████| 2/2 [00:00<00:00, 200.55it/s]\n",
      "Getting Detail from Replyed Comment 1: 100%|████████████████████████████████████████████| 1/1 [00:00<00:00, 142.72it/s]\n",
      "Getting Detail from Replyed Comment 2: 100%|████████████████████████████████████████████| 3/3 [00:00<00:00, 142.81it/s]\n",
      "Getting Detail from Replyed Comment 3: 100%|████████████████████████████████████████████| 1/1 [00:00<00:00, 142.37it/s]\n",
      "Getting Detail from Replyed Comment 4: 0it [00:00, ?it/s]\n",
      "Getting Detail from Replyed Comment 5: 100%|████████████████████████████████████████████| 3/3 [00:00<00:00, 230.67it/s]\n",
      "Getting Detail from Replyed Comment 6: 100%|████████████████████████████████████████████| 9/9 [00:00<00:00, 214.07it/s]\n",
      "Getting Detail from Replyed Comment 7: 100%|██████████████████████████████████████████| 13/13 [00:00<00:00, 270.42it/s]\n",
      "Getting Detail from Replyed Comment 8: 100%|████████████████████████████████████████████| 7/7 [00:00<00:00, 250.03it/s]\n",
      "Getting Detail from Replyed Comment 9: 100%|████████████████████████████████████████████| 3/3 [00:00<00:00, 250.03it/s]\n"
     ]
    },
    {
     "name": "stdout",
     "output_type": "stream",
     "text": [
      "Saved Into Excel File\n",
      "Get Detail From 3 Post\n"
     ]
    },
    {
     "name": "stderr",
     "output_type": "stream",
     "text": [
      "Getting Comment Detail From Post: 100%|███████████████████████████████████████████████| 83/83 [00:00<00:00, 279.85it/s]\n",
      "Getting Detail from Replyed Comment 0: 100%|████████████████████████████████████████████| 2/2 [00:00<00:00, 181.99it/s]\n",
      "Getting Detail from Replyed Comment 1: 100%|████████████████████████████████████████████| 7/7 [00:00<00:00, 194.51it/s]\n",
      "Getting Detail from Replyed Comment 2: 100%|████████████████████████████████████████████| 3/3 [00:00<00:00, 214.31it/s]\n",
      "Getting Detail from Replyed Comment 3: 100%|████████████████████████████████████████████| 1/1 [00:00<00:00, 111.14it/s]\n",
      "Getting Detail from Replyed Comment 4: 100%|████████████████████████████████████████████| 1/1 [00:00<00:00, 143.06it/s]\n"
     ]
    },
    {
     "name": "stdout",
     "output_type": "stream",
     "text": [
      "Saved Into Excel File\n",
      "Get Detail From 4 Post\n"
     ]
    },
    {
     "name": "stderr",
     "output_type": "stream",
     "text": [
      "Getting Comment Detail From Post: 100%|███████████████████████████████████████████████| 12/12 [00:00<00:00, 260.85it/s]\n",
      "Getting Detail from Replyed Comment 0: 100%|████████████████████████████████████████████| 9/9 [00:00<00:00, 207.99it/s]\n",
      "Getting Detail from Replyed Comment 1: 100%|████████████████████████████████████████████| 1/1 [00:00<00:00, 142.86it/s]\n",
      "Getting Detail from Replyed Comment 2: 100%|████████████████████████████████████████████| 1/1 [00:00<00:00, 199.82it/s]\n",
      "Getting Detail from Replyed Comment 3: 100%|████████████████████████████████████████████| 1/1 [00:00<00:00, 111.08it/s]\n"
     ]
    },
    {
     "name": "stdout",
     "output_type": "stream",
     "text": [
      "Saved Into Excel File\n",
      "Get Detail From 5 Post\n"
     ]
    },
    {
     "name": "stderr",
     "output_type": "stream",
     "text": [
      "Getting Comment Detail From Post: 100%|█████████████████████████████████████████████████| 2/2 [00:00<00:00, 285.72it/s]\n"
     ]
    },
    {
     "name": "stdout",
     "output_type": "stream",
     "text": [
      "Saved Into Excel File\n",
      "Get Detail From 6 Post\n"
     ]
    },
    {
     "name": "stderr",
     "output_type": "stream",
     "text": [
      "Getting Comment Detail From Post: 100%|███████████████████████████████████████████████| 73/73 [00:00<00:00, 271.33it/s]\n",
      "Getting Detail from Replyed Comment 0: 100%|████████████████████████████████████████████| 6/6 [00:00<00:00, 249.95it/s]\n",
      "Getting Detail from Replyed Comment 1: 100%|████████████████████████████████████████████| 3/3 [00:00<00:00, 176.48it/s]\n",
      "Getting Detail from Replyed Comment 2: 100%|████████████████████████████████████████████| 1/1 [00:00<00:00, 200.27it/s]\n",
      "Getting Detail from Replyed Comment 3: 100%|████████████████████████████████████████████| 1/1 [00:00<00:00, 125.01it/s]\n",
      "Getting Detail from Replyed Comment 4: 100%|████████████████████████████████████████████| 1/1 [00:00<00:00, 142.88it/s]\n",
      "Getting Detail from Replyed Comment 5: 100%|████████████████████████████████████████████| 1/1 [00:00<00:00, 166.76it/s]\n",
      "Getting Detail from Replyed Comment 6: 100%|████████████████████████████████████████████| 1/1 [00:00<00:00, 250.26it/s]\n",
      "Getting Detail from Replyed Comment 7: 100%|████████████████████████████████████████████| 2/2 [00:00<00:00, 250.00it/s]\n",
      "Getting Detail from Replyed Comment 8: 0it [00:00, ?it/s]\n",
      "Getting Detail from Replyed Comment 9: 100%|████████████████████████████████████████████| 1/1 [00:00<00:00, 249.79it/s]\n",
      "Getting Detail from Replyed Comment 10: 100%|███████████████████████████████████████████| 6/6 [00:00<00:00, 260.80it/s]\n"
     ]
    },
    {
     "name": "stdout",
     "output_type": "stream",
     "text": [
      "Saved Into Excel File\n",
      "Get Detail From 7 Post\n"
     ]
    },
    {
     "name": "stderr",
     "output_type": "stream",
     "text": [
      "Getting Comment Detail From Post: 100%|███████████████████████████████████████████████| 65/65 [00:00<00:00, 310.91it/s]\n",
      "Getting Detail from Replyed Comment 0: 100%|████████████████████████████████████████████| 1/1 [00:00<00:00, 166.69it/s]\n",
      "Getting Detail from Replyed Comment 1: 100%|████████████████████████████████████████████| 2/2 [00:00<00:00, 166.63it/s]\n",
      "Getting Detail from Replyed Comment 2: 100%|████████████████████████████████████████████| 3/3 [00:00<00:00, 150.03it/s]\n",
      "Getting Detail from Replyed Comment 3: 100%|████████████████████████████████████████████| 1/1 [00:00<00:00, 166.73it/s]\n",
      "Getting Detail from Replyed Comment 4: 100%|████████████████████████████████████████████| 9/9 [00:00<00:00, 264.73it/s]\n",
      "Getting Detail from Replyed Comment 5: 100%|████████████████████████████████████████████| 1/1 [00:00<00:00, 166.68it/s]\n",
      "Getting Detail from Replyed Comment 6: 100%|████████████████████████████████████████████| 2/2 [00:00<00:00, 200.06it/s]\n",
      "Getting Detail from Replyed Comment 7: 100%|████████████████████████████████████████████| 1/1 [00:00<00:00, 166.59it/s]\n",
      "Getting Detail from Replyed Comment 8: 100%|████████████████████████████████████████████| 1/1 [00:00<00:00, 167.58it/s]\n"
     ]
    },
    {
     "name": "stdout",
     "output_type": "stream",
     "text": [
      "Saved Into Excel File\n",
      "Get Detail From 8 Post\n",
      "There's No Comment\n",
      "Saved Into Excel File\n",
      "Get Detail From 9 Post\n"
     ]
    },
    {
     "name": "stderr",
     "output_type": "stream",
     "text": [
      "Getting Comment Detail From Post: 100%|█████████████████████████████████████████████████| 6/6 [00:00<00:00, 206.50it/s]\n"
     ]
    },
    {
     "name": "stdout",
     "output_type": "stream",
     "text": [
      "Saved Into Excel File\n",
      "Get Detail From 10 Post\n"
     ]
    },
    {
     "name": "stderr",
     "output_type": "stream",
     "text": [
      "Getting Comment Detail From Post: 100%|█████████████████████████████████████████████| 330/330 [00:01<00:00, 249.71it/s]\n",
      "Getting Detail from Replyed Comment 0: 100%|██████████████████████████████████████████| 18/18 [00:00<00:00, 222.20it/s]\n",
      "Getting Detail from Replyed Comment 1: 100%|████████████████████████████████████████████| 8/8 [00:00<00:00, 222.08it/s]\n",
      "Getting Detail from Replyed Comment 2: 100%|██████████████████████████████████████████| 21/21 [00:00<00:00, 224.13it/s]\n",
      "Getting Detail from Replyed Comment 3: 100%|████████████████████████████████████████████| 1/1 [00:00<00:00, 142.80it/s]\n",
      "Getting Detail from Replyed Comment 4: 100%|████████████████████████████████████████████| 2/2 [00:00<00:00, 153.85it/s]\n",
      "Getting Detail from Replyed Comment 5: 100%|████████████████████████████████████████████| 3/3 [00:00<00:00, 166.71it/s]\n",
      "Getting Detail from Replyed Comment 6: 100%|████████████████████████████████████████████| 5/5 [00:00<00:00, 185.19it/s]\n",
      "Getting Detail from Replyed Comment 7: 100%|████████████████████████████████████████████| 3/3 [00:00<00:00, 187.54it/s]\n",
      "Getting Detail from Replyed Comment 8: 100%|████████████████████████████████████████████| 3/3 [00:00<00:00, 214.27it/s]\n",
      "Getting Detail from Replyed Comment 9: 100%|████████████████████████████████████████████| 3/3 [00:00<00:00, 166.65it/s]\n",
      "Getting Detail from Replyed Comment 10: 100%|███████████████████████████████████████████| 1/1 [00:00<00:00, 125.00it/s]\n",
      "Getting Detail from Replyed Comment 11: 100%|███████████████████████████████████████████| 3/3 [00:00<00:00, 172.90it/s]\n",
      "Getting Detail from Replyed Comment 12: 100%|█████████████████████████████████████████| 12/12 [00:00<00:00, 285.76it/s]\n",
      "Getting Detail from Replyed Comment 13: 100%|███████████████████████████████████████████| 3/3 [00:00<00:00, 250.08it/s]\n",
      "Getting Detail from Replyed Comment 14: 100%|█████████████████████████████████████████| 13/13 [00:00<00:00, 341.38it/s]\n",
      "Getting Detail from Replyed Comment 15: 100%|███████████████████████████████████████████| 6/6 [00:00<00:00, 230.57it/s]\n",
      "Getting Detail from Replyed Comment 16: 100%|█████████████████████████████████████████| 24/24 [00:00<00:00, 289.13it/s]\n",
      "Getting Detail from Replyed Comment 17: 100%|█████████████████████████████████████████| 14/14 [00:00<00:00, 310.97it/s]\n",
      "Getting Detail from Replyed Comment 18: 100%|███████████████████████████████████████████| 8/8 [00:00<00:00, 319.71it/s]\n",
      "Getting Detail from Replyed Comment 19: 100%|███████████████████████████████████████████| 1/1 [00:00<00:00, 200.15it/s]\n",
      "Getting Detail from Replyed Comment 20: 100%|███████████████████████████████████████████| 4/4 [00:00<00:00, 249.72it/s]\n",
      "Getting Detail from Replyed Comment 21: 100%|███████████████████████████████████████████| 4/4 [00:00<00:00, 285.39it/s]\n",
      "Getting Detail from Replyed Comment 22: 100%|███████████████████████████████████████████| 3/3 [00:00<00:00, 150.02it/s]\n",
      "Getting Detail from Replyed Comment 23: 100%|███████████████████████████████████████████| 9/9 [00:00<00:00, 272.54it/s]\n",
      "Getting Detail from Replyed Comment 24: 100%|███████████████████████████████████████████| 2/2 [00:00<00:00, 181.82it/s]\n",
      "Getting Detail from Replyed Comment 25: 100%|███████████████████████████████████████████| 3/3 [00:00<00:00, 299.38it/s]\n",
      "Getting Detail from Replyed Comment 26: 100%|███████████████████████████████████████████| 1/1 [00:00<00:00, 167.06it/s]\n",
      "Getting Detail from Replyed Comment 27: 100%|███████████████████████████████████████████| 3/3 [00:00<00:00, 176.24it/s]\n",
      "Getting Detail from Replyed Comment 28: 100%|███████████████████████████████████████████| 1/1 [00:00<00:00, 142.84it/s]\n",
      "Getting Detail from Replyed Comment 29: 100%|███████████████████████████████████████████| 9/9 [00:00<00:00, 374.64it/s]\n",
      "Getting Detail from Replyed Comment 30: 100%|███████████████████████████████████████████| 2/2 [00:00<00:00, 153.81it/s]\n",
      "Getting Detail from Replyed Comment 31: 100%|███████████████████████████████████████████| 2/2 [00:00<00:00, 222.16it/s]\n",
      "Getting Detail from Replyed Comment 32: 100%|███████████████████████████████████████████| 5/5 [00:00<00:00, 293.83it/s]\n",
      "Getting Detail from Replyed Comment 33: 100%|███████████████████████████████████████████| 1/1 [00:00<00:00, 111.10it/s]\n",
      "Getting Detail from Replyed Comment 34: 100%|███████████████████████████████████████████| 7/7 [00:00<00:00, 205.86it/s]\n",
      "Getting Detail from Replyed Comment 35: 100%|███████████████████████████████████████████| 9/9 [00:00<00:00, 187.50it/s]\n",
      "Getting Detail from Replyed Comment 36: 100%|███████████████████████████████████████████| 3/3 [00:00<00:00, 149.85it/s]\n",
      "C:\\ProgramData\\Anaconda3\\lib\\site-packages\\xlsxwriter\\worksheet.py:931: UserWarning: Ignoring URL 'https://www.google.com/url?sa=t&source=web&rct=j&url=https%3A%2F%2Fwww.sehatq.com%2Fartikel%2Frokok-dapat-meningkatkan-risiko-infeksi-virus-corona-benarkah%2Famp&ved=2ahUKEwiHkYqcu5DpAhVW9nMBHWOuALkQFjABegQIAhAB&usg=AOvVaw01Nu1A5NtzCkPiysidztwO&ampcf=1&cshid=1588260565885' with link or location/anchor > 255 characters since it exceeds Excel's limit for URLS\n",
      "  force_unicode(url))\n",
      "C:\\ProgramData\\Anaconda3\\lib\\site-packages\\xlsxwriter\\worksheet.py:931: UserWarning: Ignoring URL 'https://www.google.com/url?sa=t&source=web&rct=j&url=https%3A%2F%2Famp.kompas.com%2Ftren%2Fread%2F2020%2F03%2F31%2F140000765%2Fwho-sebut-perokok-berisiko-lebih-tinggi-tertular-virus-corona-berikut&ved=2ahUKEwiHkYqcu5DpAhVW9nMBHWOuALkQFjACegQIBBAB&usg=AOvVaw2gC8zLwqgfpTU5aoI2FtS4&ampcf=1&cshid=1588260565885' with link or location/anchor > 255 characters since it exceeds Excel's limit for URLS\n",
      "  force_unicode(url))\n",
      "C:\\ProgramData\\Anaconda3\\lib\\site-packages\\xlsxwriter\\worksheet.py:931: UserWarning: Ignoring URL 'https://www.google.com/url?sa=t&source=web&rct=j&url=https%3A%2F%2Fm.liputan6.com%2Fbola%2Fread%2F4214960%2Fperokok-lebih-rentan-terpapar-corona-covid-19-ini-7-tips-berhenti-merokok&ved=2ahUKEwiHkYqcu5DpAhVW9nMBHWOuALkQFjAFegQIBRAJ&usg=AOvVaw3qWZ9c1jTK0R0BsnGnNkgp&cshid=1588260728024' with link or location/anchor > 255 characters since it exceeds Excel's limit for URLS\n",
      "  force_unicode(url))\n"
     ]
    },
    {
     "name": "stdout",
     "output_type": "stream",
     "text": [
      "Saved Into Excel File\n",
      "Get Detail From 11 Post\n"
     ]
    },
    {
     "name": "stderr",
     "output_type": "stream",
     "text": [
      "Getting Comment Detail From Post: 100%|███████████████████████████████████████████████| 60/60 [00:00<00:00, 278.22it/s]\n",
      "Getting Detail from Replyed Comment 0: 100%|████████████████████████████████████████████| 1/1 [00:00<00:00, 199.83it/s]\n",
      "Getting Detail from Replyed Comment 1: 100%|████████████████████████████████████████████| 3/3 [00:00<00:00, 300.01it/s]\n",
      "Getting Detail from Replyed Comment 2: 100%|████████████████████████████████████████████| 1/1 [00:00<00:00, 248.98it/s]\n",
      "Getting Detail from Replyed Comment 3: 100%|████████████████████████████████████████████| 2/2 [00:00<00:00, 249.64it/s]\n",
      "Getting Detail from Replyed Comment 4: 100%|████████████████████████████████████████████| 1/1 [00:00<00:00, 166.60it/s]\n",
      "Getting Detail from Replyed Comment 5: 100%|████████████████████████████████████████████| 1/1 [00:00<00:00, 250.24it/s]\n",
      "Getting Detail from Replyed Comment 6: 100%|████████████████████████████████████████████| 1/1 [00:00<00:00, 199.86it/s]\n",
      "Getting Detail from Replyed Comment 7: 100%|████████████████████████████████████████████| 3/3 [00:00<00:00, 333.37it/s]\n",
      "Getting Detail from Replyed Comment 8: 100%|██████████████████████████████████████████| 10/10 [00:00<00:00, 322.45it/s]\n",
      "Getting Detail from Replyed Comment 9: 100%|████████████████████████████████████████████| 1/1 [00:00<00:00, 200.17it/s]\n",
      "Getting Detail from Replyed Comment 10: 100%|███████████████████████████████████████████| 2/2 [00:00<00:00, 285.46it/s]\n",
      "Getting Detail from Replyed Comment 11: 100%|███████████████████████████████████████████| 2/2 [00:00<00:00, 332.58it/s]\n"
     ]
    },
    {
     "name": "stdout",
     "output_type": "stream",
     "text": [
      "Saved Into Excel File\n",
      "Get Detail From 12 Post\n"
     ]
    },
    {
     "name": "stderr",
     "output_type": "stream",
     "text": [
      "Getting Comment Detail From Post: 100%|█████████████████████████████████████████████████| 7/7 [00:00<00:00, 200.11it/s]\n",
      "Getting Detail from Replyed Comment 0: 100%|████████████████████████████████████████████| 1/1 [00:00<00:00, 334.66it/s]\n"
     ]
    },
    {
     "name": "stdout",
     "output_type": "stream",
     "text": [
      "Saved Into Excel File\n",
      "Get Detail From 13 Post\n"
     ]
    },
    {
     "name": "stderr",
     "output_type": "stream",
     "text": [
      "Getting Comment Detail From Post: 100%|█████████████████████████████████████████████████| 3/3 [00:00<00:00, 142.83it/s]\n"
     ]
    },
    {
     "name": "stdout",
     "output_type": "stream",
     "text": [
      "Saved Into Excel File\n",
      "Get Detail From 14 Post\n"
     ]
    },
    {
     "name": "stderr",
     "output_type": "stream",
     "text": [
      "Getting Comment Detail From Post: 100%|███████████████████████████████████████████████| 18/18 [00:00<00:00, 346.11it/s]\n",
      "Getting Detail from Replyed Comment 0: 100%|████████████████████████████████████████████| 1/1 [00:00<00:00, 166.65it/s]\n",
      "Getting Detail from Replyed Comment 1: 100%|████████████████████████████████████████████| 1/1 [00:00<00:00, 249.97it/s]\n",
      "Getting Detail from Replyed Comment 2: 100%|████████████████████████████████████████████| 1/1 [00:00<00:00, 166.11it/s]\n"
     ]
    },
    {
     "name": "stdout",
     "output_type": "stream",
     "text": [
      "Saved Into Excel File\n",
      "Get Detail From 15 Post\n"
     ]
    },
    {
     "name": "stderr",
     "output_type": "stream",
     "text": [
      "Getting Comment Detail From Post: 100%|███████████████████████████████████████████████| 57/57 [00:00<00:00, 387.69it/s]\n",
      "Getting Detail from Replyed Comment 0: 100%|████████████████████████████████████████████| 2/2 [00:00<00:00, 199.98it/s]\n",
      "Getting Detail from Replyed Comment 1: 100%|████████████████████████████████████████████| 1/1 [00:00<00:00, 142.82it/s]\n",
      "Getting Detail from Replyed Comment 2: 100%|████████████████████████████████████████████| 2/2 [00:00<00:00, 199.97it/s]\n",
      "Getting Detail from Replyed Comment 3: 100%|████████████████████████████████████████████| 1/1 [00:00<00:00, 199.99it/s]\n",
      "Getting Detail from Replyed Comment 4: 100%|████████████████████████████████████████████| 1/1 [00:00<00:00, 166.16it/s]\n",
      "Getting Detail from Replyed Comment 5: 100%|████████████████████████████████████████████| 1/1 [00:00<00:00, 200.16it/s]\n",
      "Getting Detail from Replyed Comment 6: 100%|████████████████████████████████████████████| 1/1 [00:00<00:00, 166.77it/s]\n",
      "Getting Detail from Replyed Comment 7: 100%|████████████████████████████████████████████| 1/1 [00:00<00:00, 166.16it/s]\n",
      "Getting Detail from Replyed Comment 8: 100%|████████████████████████████████████████████| 2/2 [00:00<00:00, 249.43it/s]\n",
      "Getting Detail from Replyed Comment 9: 100%|████████████████████████████████████████████| 4/4 [00:00<00:00, 235.56it/s]\n",
      "Getting Detail from Replyed Comment 10: 100%|███████████████████████████████████████████| 1/1 [00:00<00:00, 249.71it/s]\n"
     ]
    },
    {
     "name": "stdout",
     "output_type": "stream",
     "text": [
      "Saved Into Excel File\n"
     ]
    }
   ],
   "source": [
    "for i in (range(len(get))):\n",
    "    \n",
    "    print(\"Get Detail From {} Post\".format(str(i+1)))\n",
    "    df0 = pandas.DataFrame({\"post\":[],\n",
    "                            \"comment\": [],\n",
    "                            \"parrent_comment\":[]})\n",
    "    \n",
    "    url_post, url_akun, tgl_post = get_post(driver, i)\n",
    "    \n",
    "#     driver.get(url_post)\n",
    "    soup = BeautifulSoup(driver.page_source, 'lxml')\n",
    "\n",
    "    caption, hashtag, url_link, tgl_post, url_akun = get_post_detail(soup)\n",
    "\n",
    "    df0 = df0.append(get_comment(driver, caption, df0))\n",
    "    df0.to_excel(\"{}-{}.xlsx\".format(keyword, i))\n",
    "    print(\"Saved Into Excel File\")\n",
    "    \n",
    "    driver.execute_script(\"window.history.go(-1)\")\n",
    "        \n",
    "driver.close()"
   ]
  },
  {
   "cell_type": "markdown",
   "metadata": {},
   "source": [
    "# Merge xlsx File "
   ]
  },
  {
   "cell_type": "code",
   "execution_count": 10,
   "metadata": {},
   "outputs": [],
   "source": [
    "data = pandas.DataFrame()\n",
    "for file in glob(\"data/covid/*.xlsx\"):\n",
    "    new_data = pandas.read_excel(file)\n",
    "    data = data.append(new_data)"
   ]
  },
  {
   "cell_type": "code",
   "execution_count": 12,
   "metadata": {},
   "outputs": [],
   "source": [
    "data.to_excel(\"data/covid/merged-covid19.xlsx\")"
   ]
  },
  {
   "cell_type": "code",
   "execution_count": null,
   "metadata": {},
   "outputs": [],
   "source": []
  }
 ],
 "metadata": {
  "kernelspec": {
   "display_name": "Python 3",
   "language": "python",
   "name": "python3"
  },
  "language_info": {
   "codemirror_mode": {
    "name": "ipython",
    "version": 3
   },
   "file_extension": ".py",
   "mimetype": "text/x-python",
   "name": "python",
   "nbconvert_exporter": "python",
   "pygments_lexer": "ipython3",
   "version": "3.7.4"
  }
 },
 "nbformat": 4,
 "nbformat_minor": 2
}
