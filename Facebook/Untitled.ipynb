{
 "cells": [
  {
   "cell_type": "code",
   "execution_count": 16,
   "metadata": {},
   "outputs": [
    {
     "name": "stdout",
     "output_type": "stream",
     "text": [
      "{'comments': 0,\n",
      " 'image': 'https://scontent.fcgk18-1.fna.fbcdn.net/v/t1.0-0/cp0/e15/q65/s320x320/71707039_3039470426127659_4813093080934645760_n.jpg?_nc_cat=108&_nc_oc=AQkvoKEtF8gtdgwjeZKph8InV558GYt0GsKc65r1-0wjjFQF6nhzNPayOQ6gEMcS560&_nc_ht=scontent.fcgk18-1.fna&oh=deb18098f94c49e63dea9d7b6a3c8d53&oe=5E250657',\n",
      " 'likes': 0,\n",
      " 'link': 'https://www.pertamina.com/id/news-room/csr-news/pekerja-pertamina-wujudkan-kepedulian-kepada-korban-bencana-gempa-ambon',\n",
      " 'post_id': '3039473269460708',\n",
      " 'post_url': 'https://m.facebook.com/story.php?story_fbid=3039473269460708&id=272397742834955',\n",
      " 'shares': 0,\n",
      " 'text': 'Peduli korban bencana gempa Ambon, Pekerja Pertamina salurkan '\n",
      "         'bantuan dari iuran para pekerja Pertamina sebagai bentuk employee '\n",
      "         'volunteering dan kepedulian Semoga bermanfaat serta aktifitas '\n",
      "         'perekonomian dan… Lainnya sosial kembali seperti semula.\\n'\n",
      "         'Wakil Gubernur Maluku, Barnabas Nathaniel Orno, memberikan apresiasi '\n",
      "         'terhadap kepedulian Pertamina untuk ikut berkontribusi memberikan '\n",
      "         'bantuan bagi para pengungsi.\\n'\n",
      "         'https://www.pertamina.com/id/news-room/csr-news/pekerja-pertamina-wujudkan-kepedulian-kepada-korban-bencana-gempa-ambon\\n'\n",
      "         '#MoveOn #PertaminaPeduli',\n",
      " 'time': datetime.datetime(2019, 10, 3, 16, 11, 41)}\n",
      "{'comments': 0,\n",
      " 'image': 'https://scontent.fcgk18-1.fna.fbcdn.net/v/t1.0-0/cp0/e15/q65/p75x225/71487460_3039094489498586_1434156482839969792_n.jpg?_nc_cat=108&_nc_oc=AQnx2vNRiLPhlntTdzUfu1pITw6yOI5N2sx3y8K-5DS7TlqoEJzGvSh0yiocwzCtq44&_nc_ht=scontent.fcgk18-1.fna&oh=9c91d5a76ac8323dc93caa7d153c7750&oe=5E28CE13',\n",
      " 'likes': 0,\n",
      " 'link': 'https://www.pertamina.com/id/news-room/news-release/capai-161-titik-pertamina-lebih-cepat-3-bulan-lampaui-target-bbm-1-harga',\n",
      " 'post_id': '3039102226164479',\n",
      " 'post_url': 'https://m.facebook.com/story.php?story_fbid=3039102226164479&id=272397742834955',\n",
      " 'shares': 0,\n",
      " 'text': 'Sejak 2017 Pertamina menjalankan tugas dari Pemerintah membuka '\n",
      "         'aksesibilitas dan ketersediaan serta menyediakan BBM Satu Harga bagi '\n",
      "         'masyarakat, khususnya di wilayah terdepan, terluar, dan terpencil '\n",
      "         '(3T).… Lainnya Pertamina telah berhasil melampaui target lebih cepat '\n",
      "         'hingga 161 titik.\\n'\n",
      "         'Tantangan tidak sedikit, tapi semangat energi pekerja Pertamina '\n",
      "         'pantang surut. BBM Satu Harga menjadi motivasi untuk secara total '\n",
      "         'melayani masyarakat hingga ujung negeri. Mereka punya hak yang sama '\n",
      "         'untuk menikmati BBM dengan harga terjangkau.\\n'\n",
      "         'Tahukah sobat di mana saja 161 titik BBM Satu Harga?\\n'\n",
      "         'https://www.pertamina.com/id/news-room/news-release/capai-161-titik-pertamina-lebih-cepat-3-bulan-lampaui-target-bbm-1-harga\\n'\n",
      "         '#MoveOn #Accessibility #Affordability #BBMSatuHarga',\n",
      " 'time': datetime.datetime(2019, 10, 3, 12, 41, 50)}\n"
     ]
    }
   ],
   "source": [
    "from facebook_scraper import get_posts\n",
    "from pprint import pprint\n",
    "from selenium import webdriver\n",
    "from selenium.webdriver.common.keys import Keys\n",
    "\n",
    "\n",
    "for post in get_posts('pertamina', pages=1):\n",
    "    #driver = webdriver.Chrome()\n",
    "    \n",
    "    pprint(post)\n",
    "    "
   ]
  },
  {
   "cell_type": "code",
   "execution_count": null,
   "metadata": {},
   "outputs": [],
   "source": []
  }
 ],
 "metadata": {
  "kernelspec": {
   "display_name": "Python 3",
   "language": "python",
   "name": "python3"
  },
  "language_info": {
   "codemirror_mode": {
    "name": "ipython",
    "version": 3
   },
   "file_extension": ".py",
   "mimetype": "text/x-python",
   "name": "python",
   "nbconvert_exporter": "python",
   "pygments_lexer": "ipython3",
   "version": "3.7.3"
  }
 },
 "nbformat": 4,
 "nbformat_minor": 2
}
